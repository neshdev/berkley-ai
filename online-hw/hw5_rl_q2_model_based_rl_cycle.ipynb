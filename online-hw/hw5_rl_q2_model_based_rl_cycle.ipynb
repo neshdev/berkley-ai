{
 "cells": [
  {
   "cell_type": "code",
   "execution_count": 10,
   "metadata": {
    "collapsed": true
   },
   "outputs": [],
   "source": [
    "A_memory = [\n",
    "    ('A','clockwise','C',-9.0),\n",
    "    ('A','clockwise','C',-9.0),\n",
    "    ('A','clockwise','B',.0),\n",
    "    ('A','clockwise','B',.0),\n",
    "    ('A','clockwise','B',.0),\n",
    "    ('A','counterclockwise','B',.0),\n",
    "    ('A','counterclockwise','B',.0),\n",
    "    ('A','counterclockwise','B',.0),\n",
    "    ('A','counterclockwise','C',-3.0),\n",
    "    ('A','counterclockwise','B',.0),\n",
    "]"
   ]
  },
  {
   "cell_type": "code",
   "execution_count": 11,
   "metadata": {
    "collapsed": true
   },
   "outputs": [],
   "source": [
    "B_memory = [\n",
    "    ('B','clockwise','A',2.0),\n",
    "    ('B','clockwise','A',2.0),\n",
    "    ('B','clockwise','A',2.0),\n",
    "    ('B','clockwise','A',2.0),\n",
    "    ('B','clockwise','A',2.0),\n",
    "    ('B','counterclockwise','A',-6.),\n",
    "    ('B','counterclockwise','A',-6.),\n",
    "    ('B','counterclockwise','C',5.0),\n",
    "    ('B','counterclockwise','C',5.0),\n",
    "    ('B','counterclockwise','C',5.0),\n",
    "]"
   ]
  },
  {
   "cell_type": "code",
   "execution_count": 12,
   "metadata": {
    "collapsed": true
   },
   "outputs": [],
   "source": [
    "C_memory = [\n",
    "    ('C','clockwise','A',3.0),\n",
    "    ('C','clockwise','A',3.0),\n",
    "    ('C','clockwise','A',3.0),\n",
    "    ('C','clockwise','A',3.0),\n",
    "    ('C','clockwise','B',-4.0),\n",
    "    ('C','counterclockwise','A',0.),\n",
    "    ('C','counterclockwise','A',0.),\n",
    "    ('C','counterclockwise','A',0.),\n",
    "    ('C','counterclockwise','A',0.),\n",
    "    ('C','counterclockwise','A',0.),\n",
    "]"
   ]
  },
  {
   "cell_type": "code",
   "execution_count": 18,
   "metadata": {
    "collapsed": false
   },
   "outputs": [
    {
     "data": {
      "text/plain": [
       "[('A', 'clockwise', 'C', -9.0),\n",
       " ('A', 'clockwise', 'C', -9.0),\n",
       " ('A', 'clockwise', 'B', 0.0),\n",
       " ('A', 'clockwise', 'B', 0.0),\n",
       " ('A', 'clockwise', 'B', 0.0),\n",
       " ('A', 'counterclockwise', 'B', 0.0),\n",
       " ('A', 'counterclockwise', 'B', 0.0),\n",
       " ('A', 'counterclockwise', 'B', 0.0),\n",
       " ('A', 'counterclockwise', 'C', -3.0),\n",
       " ('A', 'counterclockwise', 'B', 0.0),\n",
       " ('B', 'clockwise', 'A', 2.0),\n",
       " ('B', 'clockwise', 'A', 2.0),\n",
       " ('B', 'clockwise', 'A', 2.0),\n",
       " ('B', 'clockwise', 'A', 2.0),\n",
       " ('B', 'clockwise', 'A', 2.0),\n",
       " ('B', 'counterclockwise', 'A', -6.0),\n",
       " ('B', 'counterclockwise', 'A', -6.0),\n",
       " ('B', 'counterclockwise', 'C', 5.0),\n",
       " ('B', 'counterclockwise', 'C', 5.0),\n",
       " ('B', 'counterclockwise', 'C', 5.0),\n",
       " ('C', 'clockwise', 'A', 3.0),\n",
       " ('C', 'clockwise', 'A', 3.0),\n",
       " ('C', 'clockwise', 'A', 3.0),\n",
       " ('C', 'clockwise', 'A', 3.0),\n",
       " ('C', 'clockwise', 'B', -4.0),\n",
       " ('C', 'counterclockwise', 'A', 0.0),\n",
       " ('C', 'counterclockwise', 'A', 0.0),\n",
       " ('C', 'counterclockwise', 'A', 0.0),\n",
       " ('C', 'counterclockwise', 'A', 0.0),\n",
       " ('C', 'counterclockwise', 'A', 0.0)]"
      ]
     },
     "execution_count": 18,
     "metadata": {},
     "output_type": "execute_result"
    }
   ],
   "source": [
    "memories = [y for x in [A_memory, B_memory, C_memory]  for y in x]\n",
    "memories"
   ]
  },
  {
   "cell_type": "code",
   "execution_count": 103,
   "metadata": {
    "collapsed": false
   },
   "outputs": [
    {
     "name": "stdout",
     "output_type": "stream",
     "text": [
      "{('A', 'counterclockwise'): [1.0, 1.0, 1.0, 1.0, 1.0], ('A', 'clockwise'): [1.0, 1.0, 1.0, 1.0, 1.0], ('B', 'counterclockwise'): [1.0, 1.0, 1.0, 1.0, 1.0], ('C', 'counterclockwise'): [1.0, 1.0, 1.0, 1.0, 1.0], ('C', 'clockwise'): [1.0, 1.0, 1.0, 1.0, 1.0], ('B', 'clockwise'): [1.0, 1.0, 1.0, 1.0, 1.0]}\n"
     ]
    }
   ],
   "source": [
    "import itertools\n",
    "\n",
    "state_transitions = {}\n",
    "state_rewards = {}\n",
    "state_transitions_groups = {}\n",
    "for memory in memories:\n",
    "    state = memory[:-1]\n",
    "    state_transitions.setdefault(state,[]).append(1.)\n",
    "    state_rewards.setdefault(state,[]).append(memory[-1])\n",
    "    state_action = (state[0],state[1])\n",
    "    state_transitions_groups.setdefault(state_action, []).append(1.)\n",
    "\n",
    "\n",
    "\n",
    "st1, st2 = itertools.tee(state_transitions,2)\n",
    "\n",
    "print state_transitions_groups\n",
    "    \n",
    "for k in list(st2):\n",
    "    state_action = (k[0],k[1])\n",
    "    state_transitions[k] = sum(state_transitions[k]) / sum(state_transitions_groups[state_action])\n",
    "\n",
    "for k,v in state_rewards.items():\n",
    "    state_rewards[k] = sum(v)/len(v)    \n",
    "\n",
    "##Part 1    \n",
    "#state_transitions\n",
    "#state_rewards"
   ]
  },
  {
   "cell_type": "code",
   "execution_count": 132,
   "metadata": {
    "collapsed": false
   },
   "outputs": [],
   "source": [
    "Q_k = {\n",
    "    ('A','clockwise') : -2.68,\n",
    "    ('B','clockwise') : 1.7,\n",
    "    ('C','clockwise') : 1.56,\n",
    "    ('A','counterclockwise') : .36,\n",
    "    ('B','counterclockwise') : .96,\n",
    "    ('C','counterclockwise') : -0.3\n",
    "}"
   ]
  },
  {
   "cell_type": "code",
   "execution_count": 135,
   "metadata": {
    "collapsed": false
   },
   "outputs": [],
   "source": [
    "successors = {\n",
    "    'A' : ['B','C'],\n",
    "    'B' : ['A','C'],\n",
    "    'C' : ['A','B']\n",
    "}\n",
    "\n",
    "actions = ['clockwise', 'counterclockwise']\n",
    "\n",
    "gamma = .5\n",
    "\n",
    "states = ['A','B','C']"
   ]
  },
  {
   "cell_type": "code",
   "execution_count": 139,
   "metadata": {
    "collapsed": false
   },
   "outputs": [
    {
     "name": "stdout",
     "output_type": "stream",
     "text": [
      " ('A', 'clockwise') -2.778\n",
      "('A', 'counterclockwise') 0.236\n",
      "('B', 'clockwise') 2.18\n",
      "('B', 'counterclockwise') 1.14\n",
      "('C', 'clockwise') 1.914\n",
      "('C', 'counterclockwise') 0.18\n"
     ]
    }
   ],
   "source": [
    "def Q_kp1(state,action,successors,actions,state_rewards,state_transitions,gamma, Q_k):\n",
    "    q_value = 0\n",
    "    for succ in successors[state]:\n",
    "        sprime = (state,action,succ)\n",
    "        max_q = float(\"-inf\")\n",
    "        for a in actions:\n",
    "            max_q = max(max_q, Q_k[(succ,a)])\n",
    "        q_value += state_transitions.get(sprime,0) * (state_rewards.get(sprime,0) + gamma * max_q )\n",
    "    return q_value\n",
    "\n",
    "#Part 2\n",
    "for s in states:\n",
    "    for a in actions:\n",
    "        print (s,a), Q_kp1(s,a,successors,actions,state_rewards,state_transitions,gamma,Q_k)"
   ]
  },
  {
   "cell_type": "code",
   "execution_count": 140,
   "metadata": {
    "collapsed": true
   },
   "outputs": [],
   "source": [
    "Q_star = {\n",
    "    ('A','clockwise') : -2.519,\n",
    "    ('B','clockwise') : 2.252,\n",
    "    ('C','clockwise') : 2.026,\n",
    "    ('A','counterclockwise') : 0.503,\n",
    "    ('B','counterclockwise') : 1.309,\n",
    "    ('C','counterclockwise') : 0.252\n",
    "}"
   ]
  },
  {
   "cell_type": "code",
   "execution_count": 141,
   "metadata": {
    "collapsed": false
   },
   "outputs": [
    {
     "name": "stdout",
     "output_type": "stream",
     "text": [
      "('A', 'clockwise') -2.5192\n",
      "('A', 'counterclockwise') 0.5034\n",
      "('B', 'clockwise') 2.2515\n",
      "('B', 'counterclockwise') 1.3084\n",
      "('C', 'clockwise') 2.0264\n",
      "('C', 'counterclockwise') 0.2515\n"
     ]
    }
   ],
   "source": [
    "#3\n",
    "for s in states:\n",
    "    for a in actions:\n",
    "        print (s,a), Q_kp1(s,a,successors,actions,state_rewards,state_transitions,gamma,Q_star)"
   ]
  },
  {
   "cell_type": "code",
   "execution_count": null,
   "metadata": {
    "collapsed": true
   },
   "outputs": [],
   "source": []
  }
 ],
 "metadata": {
  "anaconda-cloud": {},
  "kernelspec": {
   "display_name": "Python [conda env:py27]",
   "language": "python",
   "name": "conda-env-py27-py"
  },
  "language_info": {
   "codemirror_mode": {
    "name": "ipython",
    "version": 2
   },
   "file_extension": ".py",
   "mimetype": "text/x-python",
   "name": "python",
   "nbconvert_exporter": "python",
   "pygments_lexer": "ipython2",
   "version": "2.7.12"
  }
 },
 "nbformat": 4,
 "nbformat_minor": 1
}
