{
 "cells": [
  {
   "cell_type": "code",
   "execution_count": 38,
   "metadata": {
    "collapsed": false
   },
   "outputs": [],
   "source": [
    "#Part 1: What is Vk+1(A)?\n",
    "policy = {'A':'C','B':'C','C':'CC'}\n",
    "\n",
    "v_k_map = {'A':.32, 'B':-.34, 'C':-1.8}\n",
    "v_star_map = {'A':0, 'B':-.5, 'C':-2.25}\n",
    "\n",
    "gamma = 0.5\n",
    "\n",
    "state_transition = {\n",
    "                        (\"C\",\"C\",\"A\"): 1.,\n",
    "                        (\"C\",\"C\",\"B\"): 0.,\n",
    "                        (\"C\",\"CC\",\"A\"): 0.,\n",
    "                        (\"C\",\"CC\",\"B\"): 1.,\n",
    "                   }\n",
    "\n",
    "state_reward = {\n",
    "                    (\"C\",\"C\",\"A\"): 0,\n",
    "                    (\"C\",\"C\",\"B\"): 0,\n",
    "                    (\"C\",\"CC\",\"A\"): 0,\n",
    "                    (\"C\",\"CC\",\"B\"): -2.0,\n",
    "               }\n",
    "\n",
    "successors = {\n",
    "            \"A\" : ['B','C'],\n",
    "            \"B\" : ['A','C'],\n",
    "            \"C\" : ['A','B'],\n",
    "}\n",
    "\n",
    "\n",
    "def value_policy_evaluation(policy, state, state_transition, state_reward, gamma, successors, previous_values):\n",
    "    action = policy[state]\n",
    "    value = 0\n",
    "    for succ in successors[state]:\n",
    "        s = (state, action, succ)\n",
    "        print s\n",
    "        v = state_transition[s] * (state_reward[s] + gamma * previous_values[succ])\n",
    "        print v\n",
    "        value += v\n",
    "    return value\n",
    "\n"
   ]
  },
  {
   "cell_type": "code",
   "execution_count": 39,
   "metadata": {
    "collapsed": false
   },
   "outputs": [
    {
     "name": "stdout",
     "output_type": "stream",
     "text": [
      "('C', 'CC', 'A')\n",
      "0.0\n",
      "('C', 'CC', 'B')\n",
      "-2.17\n"
     ]
    },
    {
     "data": {
      "text/plain": [
       "-2.17"
      ]
     },
     "execution_count": 39,
     "metadata": {},
     "output_type": "execute_result"
    }
   ],
   "source": [
    "#Part 1: What is V_k+1^pi(s=C)?\n",
    "value_policy_evaluation(policy,'C',state_transition,state_reward,gamma,successors,v_k_map)"
   ]
  },
  {
   "cell_type": "code",
   "execution_count": 40,
   "metadata": {
    "collapsed": false
   },
   "outputs": [
    {
     "name": "stdout",
     "output_type": "stream",
     "text": [
      "0.0\n",
      "-0.0\n"
     ]
    },
    {
     "data": {
      "text/plain": [
       "0.0"
      ]
     },
     "execution_count": 40,
     "metadata": {},
     "output_type": "execute_result"
    }
   ],
   "source": [
    "#Part 2: What is Q_inf_^pi(s=C, a=C)?\n",
    "def q_state_evaluation(action, state, state_transition, state_reward, gamma, successors, previous_values):\n",
    "    value = 0\n",
    "    for succ in successors[state]:\n",
    "        s = (state, action, succ)\n",
    "        v = state_transition[s] * (state_reward[s] + gamma * previous_values[succ])\n",
    "        print v\n",
    "        value += v\n",
    "    return value\n",
    "\n",
    "q_state_evaluation(\"C\",'C',state_transition,state_reward,gamma,successors,v_star_map)"
   ]
  },
  {
   "cell_type": "code",
   "execution_count": 41,
   "metadata": {
    "collapsed": false
   },
   "outputs": [
    {
     "name": "stdout",
     "output_type": "stream",
     "text": [
      "0.0\n",
      "-2.25\n"
     ]
    },
    {
     "data": {
      "text/plain": [
       "-2.25"
      ]
     },
     "execution_count": 41,
     "metadata": {},
     "output_type": "execute_result"
    }
   ],
   "source": [
    "#Part 2: What is Q_inf_^pi(A, a=CC)?\n",
    "q_state_evaluation(\"CC\",'C',state_transition,state_reward,gamma,successors,v_star_map)"
   ]
  },
  {
   "cell_type": "code",
   "execution_count": null,
   "metadata": {
    "collapsed": true
   },
   "outputs": [],
   "source": []
  }
 ],
 "metadata": {
  "anaconda-cloud": {},
  "kernelspec": {
   "display_name": "Python [conda env:py27]",
   "language": "python",
   "name": "conda-env-py27-py"
  },
  "language_info": {
   "codemirror_mode": {
    "name": "ipython",
    "version": 2
   },
   "file_extension": ".py",
   "mimetype": "text/x-python",
   "name": "python",
   "nbconvert_exporter": "python",
   "pygments_lexer": "ipython2",
   "version": "2.7.12"
  }
 },
 "nbformat": 4,
 "nbformat_minor": 1
}
