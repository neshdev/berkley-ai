{
 "cells": [
  {
   "cell_type": "code",
   "execution_count": 11,
   "metadata": {
    "collapsed": false,
    "scrolled": true
   },
   "outputs": [
    {
     "name": "stdout",
     "output_type": "stream",
     "text": [
      "('A', 'counterclockwise', 'C', -6.0) -4.27575\n",
      "('C', 'counterclockwise', 'B', -10.0) -4.20425\n"
     ]
    },
    {
     "data": {
      "text/plain": [
       "{('A', 'clockwise'): 2.586,\n",
       " ('A', 'counterclockwise'): -4.27575,\n",
       " ('B', 'clockwise'): 0.244,\n",
       " ('B', 'counterclockwise'): 7.969,\n",
       " ('C', 'clockwise'): 0.741,\n",
       " ('C', 'counterclockwise'): -4.20425}"
      ]
     },
     "execution_count": 11,
     "metadata": {},
     "output_type": "execute_result"
    }
   ],
   "source": [
    "Q_table = {\n",
    "    ('A','clockwise') : 2.586,\n",
    "    ('B','clockwise') : 0.244,\n",
    "    ('C','clockwise') : 0.741,\n",
    "    ('A','counterclockwise') : -2.922,\n",
    "    ('B','counterclockwise') : 7.969,\n",
    "    ('C','counterclockwise') : -2.393,\n",
    "}\n",
    "\n",
    "samples = [\n",
    "    ('A','counterclockwise','C', -6.0), \n",
    "    ('C','counterclockwise','B', -10.0)\n",
    "]\n",
    "\n",
    "states = ['A','B','C']\n",
    "actions = ['clockwise', 'counterclockwise']\n",
    "\n",
    "alpha = .5\n",
    "gamma = .5\n",
    "\n",
    "def td_q(memory, prevQ, alpha, gamma, actions):\n",
    "    state,action,sprime,r = memory\n",
    "    succ_max_q = max([prevQ[(sprime,a)] for a in actions])\n",
    "    q = (1. - alpha)*prevQ[(state,action)] + alpha * (r + gamma*succ_max_q)\n",
    "    return q\n",
    "\n",
    "for i in range(len(samples)):\n",
    "    s,a,sprime,r = samples[i]\n",
    "    q = td_q(samples[i],Q_table,alpha,gamma,actions)\n",
    "    Q_table[(s,a)] = q\n",
    "    print (s,a,sprime,r), q\n",
    "    \n",
    "Q_table"
   ]
  },
  {
   "cell_type": "code",
   "execution_count": null,
   "metadata": {
    "collapsed": true
   },
   "outputs": [],
   "source": []
  }
 ],
 "metadata": {
  "kernelspec": {
   "display_name": "Python [conda env:py27]",
   "language": "python",
   "name": "conda-env-py27-py"
  },
  "language_info": {
   "codemirror_mode": {
    "name": "ipython",
    "version": 2
   },
   "file_extension": ".py",
   "mimetype": "text/x-python",
   "name": "python",
   "nbconvert_exporter": "python",
   "pygments_lexer": "ipython2",
   "version": "2.7.12"
  }
 },
 "nbformat": 4,
 "nbformat_minor": 1
}
