{
 "cells": [
  {
   "cell_type": "code",
   "execution_count": 14,
   "metadata": {
    "collapsed": false
   },
   "outputs": [],
   "source": [
    "#Part 1: What is Vk+1(A)?\n",
    "c_tAtoB = .6\n",
    "c_rAtoB = 1.0\n",
    "\n",
    "c_tAtoC = .4\n",
    "c_rAtoC = 1.0\n",
    "\n",
    "cc_tAtoB = .4\n",
    "cc_rAtoB = 2.0\n",
    "\n",
    "cc_tAtoC = .6\n",
    "cc_rAtoC = 2.0\n",
    "\n",
    "v_k_map = {'B':3., 'C':2.2}\n",
    "v_star_map = {'B':3.843,'C':3.059}\n",
    "\n",
    "gamma = 0.5\n",
    "\n",
    "def q_state_at_a_part(transition,reward,v_t_minus_1,gamma):\n",
    "    return transition * (reward + gamma * v_t_minus_1)"
   ]
  },
  {
   "cell_type": "code",
   "execution_count": 18,
   "metadata": {
    "collapsed": false
   },
   "outputs": [
    {
     "data": {
      "text/plain": [
       "2.34"
      ]
     },
     "execution_count": 18,
     "metadata": {},
     "output_type": "execute_result"
    }
   ],
   "source": [
    "#Part 1: What is Vk+1(A)?\n",
    "c_qaToB = q_state_at_a_part(c_tAtoB,c_rAtoB,v_k_map['B'],gamma) \n",
    "c_qaToC = q_state_at_a_part(c_tAtoC,c_rAtoC,v_k_map['C'],gamma)\n",
    "c_qaToB + c_qaToC"
   ]
  },
  {
   "cell_type": "code",
   "execution_count": 19,
   "metadata": {
    "collapsed": false
   },
   "outputs": [
    {
     "data": {
      "text/plain": [
       "3.26"
      ]
     },
     "execution_count": 19,
     "metadata": {},
     "output_type": "execute_result"
    }
   ],
   "source": [
    "#Part 1: What is Vk+1(A)?\n",
    "cc_qaToB = q_state_at_a_part(cc_tAtoB,cc_rAtoB,v_k_map['B'],gamma) \n",
    "cc_qaToC = q_state_at_a_part(cc_tAtoC,cc_rAtoC,v_k_map['C'],gamma)\n",
    "cc_qaToB + cc_qaToC"
   ]
  },
  {
   "cell_type": "code",
   "execution_count": 20,
   "metadata": {
    "collapsed": false
   },
   "outputs": [
    {
     "data": {
      "text/plain": [
       "2.7647"
      ]
     },
     "execution_count": 20,
     "metadata": {},
     "output_type": "execute_result"
    }
   ],
   "source": [
    "#Part 2: What is Q∗(A, clockwise)?\n",
    "c_qaToB = q_state_at_a_part(c_tAtoB,c_rAtoB,v_star_map['B'],gamma) \n",
    "c_qaToC = q_state_at_a_part(c_tAtoC,c_rAtoC,v_star_map['C'],gamma)\n",
    "c_qaToB + c_qaToC"
   ]
  },
  {
   "cell_type": "code",
   "execution_count": 21,
   "metadata": {
    "collapsed": false
   },
   "outputs": [
    {
     "data": {
      "text/plain": [
       "3.6863"
      ]
     },
     "execution_count": 21,
     "metadata": {},
     "output_type": "execute_result"
    }
   ],
   "source": [
    "#Part 3: What is Q∗(A, counterclockwise)?\n",
    "cc_qaToB = q_state_at_a_part(cc_tAtoB,cc_rAtoB,v_star_map['B'],gamma) \n",
    "cc_qaToC = q_state_at_a_part(cc_tAtoC,cc_rAtoC,v_star_map['C'],gamma)\n",
    "cc_qaToB + cc_qaToC"
   ]
  },
  {
   "cell_type": "code",
   "execution_count": null,
   "metadata": {
    "collapsed": true
   },
   "outputs": [],
   "source": []
  }
 ],
 "metadata": {
  "anaconda-cloud": {},
  "kernelspec": {
   "display_name": "Python [conda env:py27]",
   "language": "python",
   "name": "conda-env-py27-py"
  },
  "language_info": {
   "codemirror_mode": {
    "name": "ipython",
    "version": 2
   },
   "file_extension": ".py",
   "mimetype": "text/x-python",
   "name": "python",
   "nbconvert_exporter": "python",
   "pygments_lexer": "ipython2",
   "version": "2.7.12"
  }
 },
 "nbformat": 4,
 "nbformat_minor": 1
}
