{
 "cells": [
  {
   "cell_type": "code",
   "execution_count": 1,
   "metadata": {
    "collapsed": true
   },
   "outputs": [],
   "source": [
    "import numpy as np"
   ]
  },
  {
   "cell_type": "code",
   "execution_count": 3,
   "metadata": {
    "collapsed": false
   },
   "outputs": [],
   "source": [
    "w = np.array([1., 10.])"
   ]
  },
  {
   "cell_type": "code",
   "execution_count": 13,
   "metadata": {
    "collapsed": false
   },
   "outputs": [
    {
     "name": "stdout",
     "output_type": "stream",
     "text": [
      "[[ 1.  3.]\n",
      " [ 1.  1.]]\n"
     ]
    },
    {
     "data": {
      "text/plain": [
       "array([ 31.,  11.])"
      ]
     },
     "execution_count": 13,
     "metadata": {},
     "output_type": "execute_result"
    }
   ],
   "source": [
    "#Q(s=S,a=West)\n",
    "f1 = np.array([1./1, 3.])\n",
    "\n",
    "#Q(s=S,a=South)\n",
    "f2 = np.array([1./1, 1.])\n",
    "\n",
    "\n",
    "F = np.array([f1,f2])\n",
    "print F\n",
    "F.dot(w.T)"
   ]
  },
  {
   "cell_type": "code",
   "execution_count": 19,
   "metadata": {
    "collapsed": false
   },
   "outputs": [
    {
     "name": "stdout",
     "output_type": "stream",
     "text": [
      "[ 11.  11.]\n",
      "20.0\n"
     ]
    }
   ],
   "source": [
    "#Q(s=S',a=West)\n",
    "f1 = np.array([1./1, 1.])\n",
    "\n",
    "#Q(s=S',a=East)\n",
    "f2 = np.array([1./1, 1.])\n",
    "\n",
    "F = np.array([f1,f2])\n",
    "print F.dot(w.T)\n",
    "\n",
    "\n",
    "#sample\n",
    "r = 9.\n",
    "print max(F.dot(w.T)) + r"
   ]
  },
  {
   "cell_type": "code",
   "execution_count": 25,
   "metadata": {
    "collapsed": false
   },
   "outputs": [
    {
     "name": "stdout",
     "output_type": "stream",
     "text": [
      "-11\n",
      "-4.5\n",
      "-6.5\n"
     ]
    }
   ],
   "source": [
    "q = { \n",
    "    ('s','W') : 31, \n",
    "    ('s','S') : 11, \n",
    "}\n",
    "q_succ = {\n",
    "    ('s\\'','W') : 11,\n",
    "    ('s\\'','E') : 11\n",
    "}\n",
    "\n",
    "rewards = {\n",
    "    ('s','W','s\\'') : 9.\n",
    "}\n",
    "\n",
    "gamma = 1.\n",
    "\n",
    "alpha = 0.5\n",
    "\n",
    "#part3 - \n",
    "#difference\n",
    "difference = 20 - 31 \n",
    "print difference\n",
    "w1 = 1.\n",
    "w2 = 10.\n",
    "print w1 + alpha*(difference)*1.\n",
    "print w2 + alpha*(difference)*3."
   ]
  },
  {
   "cell_type": "code",
   "execution_count": null,
   "metadata": {
    "collapsed": true
   },
   "outputs": [],
   "source": []
  }
 ],
 "metadata": {
  "anaconda-cloud": {},
  "kernelspec": {
   "display_name": "Python [conda env:py27]",
   "language": "python",
   "name": "conda-env-py27-py"
  },
  "language_info": {
   "codemirror_mode": {
    "name": "ipython",
    "version": 2
   },
   "file_extension": ".py",
   "mimetype": "text/x-python",
   "name": "python",
   "nbconvert_exporter": "python",
   "pygments_lexer": "ipython2",
   "version": "2.7.12"
  }
 },
 "nbformat": 4,
 "nbformat_minor": 1
}
